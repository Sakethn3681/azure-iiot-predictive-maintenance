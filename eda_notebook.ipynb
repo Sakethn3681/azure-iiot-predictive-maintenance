import pandas as pd
import seaborn as sns
import matplotlib.pyplot as plt

# Load data
df = pd.read_csv("iiot_sensor_data.csv")

# Quick summary
print(df.describe())

# Plot pairwise relationships
sns.pairplot(df, hue="failure")
plt.show()
